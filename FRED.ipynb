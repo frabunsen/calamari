import numpy as np
import matplotlib.pyplot as plt
from scipy.optimize import curve_fit

def remap(Np):
    return np.log10(5) + (4/560)*Np  

def linear_fit(diameter, slope, CL_level):
    return slope*(np.log10(CL_level)**2 - np.log10(diameter)**2)

def parabolic_fit(diameter, a, b, c):
    return a*np.log10(diameter)**2 + b*np.log10(diameter) + c #formula adattata ai diametri in nm

D = np.array([300, 500, 1000, 5000]) #nm
D1 = D/1000.

LogNp_pixel = np.array([[305, 277, 242, 124],
         [298, 277, 228, 109],
         [313, 285, 248, 42],
         [278, 260, 221, 85],
         [299, 285, 224, 84],
         [304, 290, 249, 84],
         [288, 271, 237, 108],
         [409, 317, 244, 139],
         [338, 286, 238, 126],
         [337, 319, 276, 168],
         [578, 445, 337, 139],
         [445, 345, 282, 150],
         [430, 308, 222, 124],
         [381, 362, 331, 186],
         [377, 347, 307, 150],
         [370, 357, 333, 202],
         [369, 356, 322, 183],
         [362, 347, 317, 150],
         [359, 314, 266, 83],
         [360, 300, 246, 108]])

LogNp = remap(LogNp_pixel)

slopes = []
a = []
c = []

plt.close('all')
plt.figure(figsize=(9, 5), dpi=180)
for i in np.arange(0, LogNp.shape[0]):
       line1, = plt.plot(D1, LogNp[i], 'o')
       popt_x, pcov_x = curve_fit(parabolic_fit, D1, LogNp[i])
       perr_x = np.sqrt(np.diag(pcov_x)) 
       slopes.append(popt_x[1])
       a.append(popt_x[0])
       #print(*popt_x)
       c.append(popt_x[2])
       plt.xscale('log')

x_plot = np.linspace(min(D1),max(D1),1000)
line2, = plt.plot(x_plot, parabolic_fit(x_plot, np.mean(a), np.mean(slopes), np.mean(c)), '-')
plt.grid(linestyle = 'dotted')
lgn = plt.legend((line1, line2), ('experimental data', 'fit'), fontsize = 12)
lgn.legendHandles[0]._legmarker.set_color('black')
plt.xlabel(r'particle diameter $D$ in $\mu$m', fontsize = 13)
plt.ylabel(r'$\log_{10}$(particles/ft$^3$ of diameter $\geq D$)', fontsize = 13)

plt.figure(figsize=(9, 5), dpi=180)
print('mean slope = ', np.mean(slopes))
print('std = ', np.std(slopes))
plt.hist(slopes)
plt.title('slope values distribution')
plt.grid(linestyle = 'dotted')

plt.figure(figsize=(9, 5), dpi=180)
print('mean a = ', np.mean(a))
print('std = ', np.std(a))
plt.hist(a)
plt.title('a values distribution')
plt.grid(linestyle = 'dotted')
